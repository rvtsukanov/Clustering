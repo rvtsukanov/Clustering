{
 "cells": [
  {
   "cell_type": "code",
   "execution_count": 1,
   "metadata": {
    "collapsed": true
   },
   "outputs": [],
   "source": [
    "import numpy as np\n",
    "import pickle\n",
    "from sklearn.feature_extraction.text import TfidfVectorizer, CountVectorizer"
   ]
  },
  {
   "cell_type": "code",
   "execution_count": 43,
   "metadata": {},
   "outputs": [
    {
     "name": "stdout",
     "output_type": "stream",
     "text": [
      "абсолютно бпо\n",
      "(76, 1814)\n"
     ]
    }
   ],
   "source": [
    "kappa = pickle.load(open(\"doc.p\", \"rb\"))\n",
    "data = []\n",
    "for key in kappa:\n",
    "    data.append(kappa[key])  \n",
    "tfidf = TfidfVectorizer()\n",
    "data = tfidf.fit_transform(data).toarray()\n",
    "keys = list(kappa.keys())[1:]\n",
    "print(tfidf.get_feature_names()[0], tfidf.get_feature_names()[68])\n",
    "for i, val in enumerate(data):\n",
    "    if val.sum() == 0:\n",
    "        data = np.delete(data, i, 0)\n",
    "print(data.shape)"
   ]
  },
  {
   "cell_type": "code",
   "execution_count": 61,
   "metadata": {},
   "outputs": [
    {
     "name": "stdout",
     "output_type": "stream",
     "text": [
      "0.371709856925\n",
      "0.451753657725\n",
      "0.69378562284\n",
      "0.528148976702\n",
      "0.351225275616\n",
      "0.329806855262\n",
      "0.709398826377\n",
      "0.395582815731\n",
      "0.34253516329\n",
      "0.469969796689\n",
      "0.444209481248\n",
      "0.528123487831\n",
      "0.60264663622\n",
      "0.330078665785\n",
      "0.32922816916\n",
      "0.211260877335\n",
      "0.588863093075\n",
      "0.6034204314\n",
      "0.465076593482\n",
      "0.759228005203\n",
      "0.529977244179\n",
      "0.312309789956\n",
      "0.371148926397\n",
      "0.768346887719\n",
      "0.414657373592\n",
      "0.25665842691\n",
      "0.308113305117\n",
      "0.593001474722\n",
      "0.512320789134\n",
      "0.456730386833\n",
      "0.58706314463\n",
      "0.378219969528\n",
      "0.703956522376\n",
      "0.386361630205\n",
      "0.351175593252\n",
      "0.388654312682\n",
      "0.536485186183\n",
      "0.551695964371\n",
      "0.382132123803\n",
      "0.600090095669\n",
      "0.333373667465\n",
      "0.515243053773\n",
      "0.376143233994\n",
      "0.466440100413\n",
      "0.408649804354\n",
      "0.787586996839\n",
      "0.357442855119\n",
      "0.481470175308\n",
      "0.574332429371\n",
      "0.520438122022\n",
      "0.363149678198\n",
      "0.409596449242\n",
      "0.398735595398\n",
      "0.41530752278\n",
      "0.402885504255\n",
      "0.698023942275\n",
      "0.769517407055\n",
      "0.596660447556\n",
      "0.35052239566\n",
      "0.677727682676\n",
      "0.79303125097\n",
      "0.563152059925\n",
      "0.316629421236\n",
      "0.51324445986\n",
      "0.358288082261\n",
      "0.598135483481\n",
      "0.41877755045\n",
      "0.0\n",
      "0.402949670841\n",
      "0.378853499619\n",
      "0.436413042456\n",
      "0.343717777703\n",
      "0.412083590549\n",
      "0.563229990085\n",
      "0.698930046846\n",
      "0.354746482634\n"
     ]
    }
   ],
   "source": [
    "for i in data:\n",
    "    print(np.linalg.norm(i, np.inf))"
   ]
  },
  {
   "cell_type": "code",
   "execution_count": 44,
   "metadata": {},
   "outputs": [],
   "source": [
    "from scipy.spatial.distance import pdist\n",
    "from scipy.cluster import hierarchy\n",
    "from scipy.spatial.distance import cosine"
   ]
  },
  {
   "cell_type": "code",
   "execution_count": 53,
   "metadata": {
    "scrolled": true
   },
   "outputs": [
    {
     "name": "stdout",
     "output_type": "stream",
     "text": [
      "ойойой\n",
      "ойойой\n",
      "ойойой\n",
      "ойойой\n",
      "ойойой\n",
      "ойойой\n",
      "ойойой\n",
      "ойойой\n",
      "ойойой\n",
      "ойойой\n",
      "ойойой\n",
      "ойойой\n",
      "ойойой\n",
      "ойойой\n",
      "ойойой\n",
      "ойойой\n",
      "ойойой\n",
      "ойойой\n",
      "ойойой\n",
      "ойойой\n",
      "ойойой\n",
      "ойойой\n",
      "ойойой\n",
      "ойойой\n",
      "ойойой\n",
      "ойойой\n",
      "ойойой\n",
      "ойойой\n",
      "ойойой\n",
      "ойойой\n",
      "ойойой\n",
      "ойойой\n",
      "ойойой\n",
      "ойойой\n",
      "ойойой\n",
      "ойойой\n",
      "ойойой\n",
      "ойойой\n",
      "ойойой\n",
      "ойойой\n",
      "ойойой\n",
      "ойойой\n",
      "ойойой\n",
      "ойойой\n",
      "ойойой\n",
      "ойойой\n",
      "ойойой\n",
      "ойойой\n",
      "ойойой\n",
      "ойойой\n",
      "ойойой\n",
      "ойойой\n",
      "ойойой\n",
      "ойойой\n",
      "ойойой\n",
      "ойойой\n",
      "ойойой\n",
      "ойойой\n",
      "ойойой\n",
      "ойойой\n",
      "ойойой\n",
      "ойойой\n",
      "ойойой\n",
      "ойойой\n",
      "ойойой\n",
      "ойойой\n",
      "ойойой\n",
      "ойойой\n",
      "ойойой\n",
      "ойойой\n",
      "ойойой\n",
      "ойойой\n",
      "ойойой\n",
      "ойойой\n",
      "ойойой\n"
     ]
    },
    {
     "data": {
      "text/plain": [
       "75"
      ]
     },
     "execution_count": 53,
     "metadata": {},
     "output_type": "execute_result"
    }
   ],
   "source": [
    "a = 0\n",
    "dist = pdist(data, 'cosine')\n",
    "for i in dist:\n",
    "    if np.isnan(i):\n",
    "        a += 1\n",
    "        print('ойойой')\n",
    "        \n",
    "a"
   ]
  },
  {
   "cell_type": "code",
   "execution_count": 45,
   "metadata": {},
   "outputs": [
    {
     "ename": "ValueError",
     "evalue": "The condensed distance matrix must contain only finite values.",
     "output_type": "error",
     "traceback": [
      "\u001b[1;31m---------------------------------------------------------------------------\u001b[0m",
      "\u001b[1;31mValueError\u001b[0m                                Traceback (most recent call last)",
      "\u001b[1;32m<ipython-input-45-a0e084541d12>\u001b[0m in \u001b[0;36m<module>\u001b[1;34m()\u001b[0m\n\u001b[0;32m      1\u001b[0m \u001b[0mdist\u001b[0m \u001b[1;33m=\u001b[0m \u001b[0mpdist\u001b[0m\u001b[1;33m(\u001b[0m\u001b[0mdata\u001b[0m\u001b[1;33m,\u001b[0m \u001b[1;34m'cosine'\u001b[0m\u001b[1;33m)\u001b[0m\u001b[1;33m\u001b[0m\u001b[0m\n\u001b[0;32m      2\u001b[0m \u001b[1;33m\u001b[0m\u001b[0m\n\u001b[1;32m----> 3\u001b[1;33m \u001b[0mZ\u001b[0m \u001b[1;33m=\u001b[0m \u001b[0mhierarchy\u001b[0m\u001b[1;33m.\u001b[0m\u001b[0mlinkage\u001b[0m\u001b[1;33m(\u001b[0m\u001b[0mdist\u001b[0m\u001b[1;33m,\u001b[0m \u001b[0mmethod\u001b[0m\u001b[1;33m=\u001b[0m\u001b[1;34m'average'\u001b[0m\u001b[1;33m)\u001b[0m\u001b[1;33m\u001b[0m\u001b[0m\n\u001b[0m",
      "\u001b[1;32mC:\\ProgramData\\Anaconda3\\lib\\site-packages\\scipy\\cluster\\hierarchy.py\u001b[0m in \u001b[0;36mlinkage\u001b[1;34m(y, method, metric)\u001b[0m\n\u001b[0;32m    674\u001b[0m \u001b[1;33m\u001b[0m\u001b[0m\n\u001b[0;32m    675\u001b[0m     \u001b[1;32mif\u001b[0m \u001b[1;32mnot\u001b[0m \u001b[0mnp\u001b[0m\u001b[1;33m.\u001b[0m\u001b[0mall\u001b[0m\u001b[1;33m(\u001b[0m\u001b[0mnp\u001b[0m\u001b[1;33m.\u001b[0m\u001b[0misfinite\u001b[0m\u001b[1;33m(\u001b[0m\u001b[0my\u001b[0m\u001b[1;33m)\u001b[0m\u001b[1;33m)\u001b[0m\u001b[1;33m:\u001b[0m\u001b[1;33m\u001b[0m\u001b[0m\n\u001b[1;32m--> 676\u001b[1;33m         \u001b[1;32mraise\u001b[0m \u001b[0mValueError\u001b[0m\u001b[1;33m(\u001b[0m\u001b[1;34m\"The condensed distance matrix must contain only finite values.\"\u001b[0m\u001b[1;33m)\u001b[0m\u001b[1;33m\u001b[0m\u001b[0m\n\u001b[0m\u001b[0;32m    677\u001b[0m \u001b[1;33m\u001b[0m\u001b[0m\n\u001b[0;32m    678\u001b[0m     \u001b[0mn\u001b[0m \u001b[1;33m=\u001b[0m \u001b[0mint\u001b[0m\u001b[1;33m(\u001b[0m\u001b[0mdistance\u001b[0m\u001b[1;33m.\u001b[0m\u001b[0mnum_obs_y\u001b[0m\u001b[1;33m(\u001b[0m\u001b[0my\u001b[0m\u001b[1;33m)\u001b[0m\u001b[1;33m)\u001b[0m\u001b[1;33m\u001b[0m\u001b[0m\n",
      "\u001b[1;31mValueError\u001b[0m: The condensed distance matrix must contain only finite values."
     ]
    }
   ],
   "source": [
    "dist = pdist(data, 'cosine')\n",
    "\n",
    "Z = hierarchy.linkage(dist, method='average')"
   ]
  },
  {
   "cell_type": "code",
   "execution_count": 9,
   "metadata": {},
   "outputs": [],
   "source": [
    "ndata = np.zeros(shape = data.shape)"
   ]
  },
  {
   "cell_type": "code",
   "execution_count": 18,
   "metadata": {},
   "outputs": [
    {
     "name": "stderr",
     "output_type": "stream",
     "text": [
      "C:\\ProgramData\\Anaconda3\\lib\\site-packages\\scipy\\spatial\\distance.py:505: RuntimeWarning: invalid value encountered in double_scalars\n",
      "  dist = 1.0 - np.dot(u, v) / (norm(u) * norm(v))\n"
     ]
    },
    {
     "ename": "IndexError",
     "evalue": "index 78 is out of bounds for axis 0 with size 78",
     "output_type": "error",
     "traceback": [
      "\u001b[1;31m---------------------------------------------------------------------------\u001b[0m",
      "\u001b[1;31mIndexError\u001b[0m                                Traceback (most recent call last)",
      "\u001b[1;32m<ipython-input-18-5377c08116e3>\u001b[0m in \u001b[0;36m<module>\u001b[1;34m()\u001b[0m\n\u001b[0;32m      4\u001b[0m         \u001b[1;32mif\u001b[0m \u001b[0mi\u001b[0m \u001b[1;33m!=\u001b[0m \u001b[0mj\u001b[0m\u001b[1;33m:\u001b[0m\u001b[1;33m\u001b[0m\u001b[0m\n\u001b[0;32m      5\u001b[0m             \u001b[0mc\u001b[0m \u001b[1;33m+=\u001b[0m \u001b[1;36m1\u001b[0m\u001b[1;33m\u001b[0m\u001b[0m\n\u001b[1;32m----> 6\u001b[1;33m             \u001b[0mndata\u001b[0m\u001b[1;33m[\u001b[0m\u001b[0mi\u001b[0m\u001b[1;33m]\u001b[0m\u001b[1;33m[\u001b[0m\u001b[0mj\u001b[0m\u001b[1;33m]\u001b[0m \u001b[1;33m=\u001b[0m \u001b[0mcosine\u001b[0m\u001b[1;33m(\u001b[0m\u001b[0mdata\u001b[0m\u001b[1;33m[\u001b[0m\u001b[0mi\u001b[0m\u001b[1;33m]\u001b[0m\u001b[1;33m,\u001b[0m \u001b[0mdata\u001b[0m\u001b[1;33m[\u001b[0m\u001b[0mj\u001b[0m\u001b[1;33m]\u001b[0m\u001b[1;33m)\u001b[0m\u001b[1;33m\u001b[0m\u001b[0m\n\u001b[0m",
      "\u001b[1;31mIndexError\u001b[0m: index 78 is out of bounds for axis 0 with size 78"
     ]
    }
   ],
   "source": [
    "c = 0\n",
    "for i in range(data.shape[0]):\n",
    "    for j in range(data.shape[1]):\n",
    "        if i != j:\n",
    "            c += 1\n",
    "            ndata[i][j] = cosine(data[i], data[j])"
   ]
  },
  {
   "cell_type": "code",
   "execution_count": 22,
   "metadata": {},
   "outputs": [
    {
     "data": {
      "text/plain": [
       "0.0"
      ]
     },
     "execution_count": 22,
     "metadata": {},
     "output_type": "execute_result"
    }
   ],
   "source": [
    "data[0].sum()"
   ]
  },
  {
   "cell_type": "code",
   "execution_count": 28,
   "metadata": {
    "collapsed": true
   },
   "outputs": [
    {
     "name": "stdout",
     "output_type": "stream",
     "text": [
      "[ 0.  0.  0. ...,  0.  0.  0.]\n",
      "[ 0.  0.  0. ...,  0.  0.  0.]\n",
      "[ 0.  0.  0. ...,  0.  0.  0.]\n",
      "[ 0.  0.  0. ...,  0.  0.  0.]\n",
      "[ 0.  0.  0. ...,  0.  0.  0.]\n",
      "[ 0.  0.  0. ...,  0.  0.  0.]\n",
      "[ 0.  0.  0. ...,  0.  0.  0.]\n",
      "[ 0.  0.  0. ...,  0.  0.  0.]\n",
      "[ 0.  0.  0. ...,  0.  0.  0.]\n",
      "[ 0.01589455  0.          0.         ...,  0.0214705   0.          0.        ]\n",
      "[ 0.  0.  0. ...,  0.  0.  0.]\n",
      "[ 0.03692314  0.          0.         ...,  0.          0.          0.        ]\n",
      "[ 0.  0.  0. ...,  0.  0.  0.]\n",
      "[ 0.  0.  0. ...,  0.  0.  0.]\n",
      "[ 0.          0.          0.         ...,  0.07967937  0.          0.        ]\n",
      "[ 0.  0.  0. ...,  0.  0.  0.]\n",
      "[ 0.  0.  0. ...,  0.  0.  0.]\n",
      "[ 0.         0.         0.        ...,  0.0691232  0.         0.       ]\n",
      "[ 0.  0.  0. ...,  0.  0.  0.]\n",
      "[ 0.  0.  0. ...,  0.  0.  0.]\n",
      "[ 0.  0.  0. ...,  0.  0.  0.]\n",
      "[ 0.          0.          0.         ...,  0.02126406  0.          0.        ]\n",
      "[ 0.  0.  0. ...,  0.  0.  0.]\n",
      "[ 0.  0.  0. ...,  0.  0.  0.]\n",
      "[ 0.  0.  0. ...,  0.  0.  0.]\n",
      "[ 0.  0.  0. ...,  0.  0.  0.]\n",
      "[ 0.  0.  0. ...,  0.  0.  0.]\n",
      "[ 0.         0.         0.        ...,  0.0950287  0.         0.       ]\n",
      "[ 0.  0.  0. ...,  0.  0.  0.]\n",
      "[ 0.  0.  0. ...,  0.  0.  0.]\n",
      "[ 0.  0.  0. ...,  0.  0.  0.]\n",
      "[ 0.  0.  0. ...,  0.  0.  0.]\n",
      "[ 0.  0.  0. ...,  0.  0.  0.]\n",
      "[ 0.  0.  0. ...,  0.  0.  0.]\n",
      "[ 0.  0.  0. ...,  0.  0.  0.]\n",
      "[ 0.  0.  0. ...,  0.  0.  0.]\n",
      "[ 0.  0.  0. ...,  0.  0.  0.]\n",
      "[ 0.          0.          0.         ...,  0.00708467  0.          0.        ]\n",
      "[ 0.          0.03818869  0.         ...,  0.          0.          0.        ]\n",
      "[ 0.  0.  0. ...,  0.  0.  0.]\n",
      "[ 0.  0.  0. ...,  0.  0.  0.]\n",
      "[ 0.  0.  0. ...,  0.  0.  0.]\n",
      "[ 0.          0.          0.02306924 ...,  0.02846017  0.          0.        ]\n",
      "[ 0.          0.          0.         ...,  0.02650139  0.          0.        ]\n",
      "[ 0.  0.  0. ...,  0.  0.  0.]\n",
      "[ 0.  0.  0. ...,  0.  0.  0.]\n",
      "[ 0.  0.  0. ...,  0.  0.  0.]\n",
      "[ 0.  0.  0. ...,  0.  0.  0.]\n",
      "[ 0.          0.          0.         ...,  0.07640112  0.          0.        ]\n",
      "[ 0.          0.          0.         ...,  0.03781119  0.          0.        ]\n",
      "[ 0.  0.  0. ...,  0.  0.  0.]\n",
      "[ 0.  0.  0. ...,  0.  0.  0.]\n",
      "[ 0.  0.  0. ...,  0.  0.  0.]\n",
      "[ 0.  0.  0. ...,  0.  0.  0.]\n",
      "[ 0.  0.  0. ...,  0.  0.  0.]\n",
      "[ 0.  0.  0. ...,  0.  0.  0.]\n",
      "[ 0.  0.  0. ...,  0.  0.  0.]\n",
      "[ 0.  0.  0. ...,  0.  0.  0.]\n",
      "[ 0.  0.  0. ...,  0.  0.  0.]\n",
      "[ 0.  0.  0. ...,  0.  0.  0.]\n",
      "[ 0.  0.  0. ...,  0.  0.  0.]\n",
      "[ 0.  0.  0. ...,  0.  0.  0.]\n",
      "[ 0.          0.          0.         ...,  0.08534684  0.          0.        ]\n",
      "[ 0.  0.  0. ...,  0.  0.  0.]\n",
      "[ 0.  0.  0. ...,  0.  0.  0.]\n",
      "[ 0.  0.  0. ...,  0.  0.  0.]\n",
      "[ 0.  0.  0. ...,  0.  0.  0.]\n",
      "[ 0.  0.  0. ...,  0.  0.  0.]\n",
      "[ 0.  0.  0. ...,  0.  0.  0.]\n",
      "[ 0.  0.  0. ...,  0.  0.  0.]\n",
      "[ 0.  0.  0. ...,  0.  0.  0.]\n",
      "[ 0.  0.  0. ...,  0.  0.  0.]\n",
      "[ 0.  0.  0. ...,  0.  0.  0.]\n",
      "[ 0.  0.  0. ...,  0.  0.  0.]\n",
      "[ 0.          0.          0.         ...,  0.          0.          0.40936427]\n",
      "[ 0.  0.  0. ...,  0.  0.  0.]\n",
      "[ 0.  0.  0. ...,  0.  0.  0.]\n",
      "[ 0.          0.06322048  0.         ...,  0.          0.06922251  0.        ]\n"
     ]
    }
   ],
   "source": [
    "for i, val in enumerate(data):\n",
    "    print(val)"
   ]
  },
  {
   "cell_type": "code",
   "execution_count": 37,
   "metadata": {},
   "outputs": [
    {
     "data": {
      "text/plain": [
       "(2, 4)"
      ]
     },
     "execution_count": 37,
     "metadata": {},
     "output_type": "execute_result"
    }
   ],
   "source": [
    "a = np.array([[1,2,3,5], [1, 0, 14, 15]])\n",
    "a.shape"
   ]
  },
  {
   "cell_type": "code",
   "execution_count": 38,
   "metadata": {},
   "outputs": [
    {
     "data": {
      "text/plain": [
       "(7,)"
      ]
     },
     "execution_count": 38,
     "metadata": {},
     "output_type": "execute_result"
    }
   ],
   "source": [
    "np.delete(a, 0).shape"
   ]
  },
  {
   "cell_type": "code",
   "execution_count": 41,
   "metadata": {},
   "outputs": [],
   "source": []
  },
  {
   "cell_type": "code",
   "execution_count": 42,
   "metadata": {},
   "outputs": [
    {
     "data": {
      "text/plain": [
       "(76, 1814)"
      ]
     },
     "execution_count": 42,
     "metadata": {},
     "output_type": "execute_result"
    }
   ],
   "source": [
    "data.shape"
   ]
  }
 ],
 "metadata": {
  "kernelspec": {
   "display_name": "Python 3",
   "language": "python",
   "name": "python3"
  },
  "language_info": {
   "codemirror_mode": {
    "name": "ipython",
    "version": 3
   },
   "file_extension": ".py",
   "mimetype": "text/x-python",
   "name": "python",
   "nbconvert_exporter": "python",
   "pygments_lexer": "ipython3",
   "version": "3.6.1"
  }
 },
 "nbformat": 4,
 "nbformat_minor": 2
}
